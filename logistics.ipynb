{
 "cells": [
  {
   "cell_type": "code",
   "execution_count": null,
   "source": [
    "import os\n",
    "import sys\n",
    "sys.path.insert(0, os.path.abspath(os.path.join(os.path.abspath(\"\"), \"..\")))\n",
    "\n",
    "\n",
    "import json\n",
    "\n",
    "import src.constants_logistics as cs\n",
    "\n",
    "import pandas as pd\n",
    "\n",
    "from datetime import date, datetime, timedelta\n",
    "\n",
    "import src.helpers as hlp\n",
    "\n",
    "import src.train.train as train"
   ],
   "outputs": [],
   "metadata": {}
  },
  {
   "cell_type": "markdown",
   "source": [
    "# Load data"
   ],
   "metadata": {}
  },
  {
   "cell_type": "code",
   "execution_count": null,
   "source": [
    "\n",
    "\n",
    "f = open(cs.PATH_TO_RAW_DATA,)\n",
    "\n",
    "data = json.load(f)\n",
    "\n",
    "df = pd.DataFrame.from_dict(data)\n",
    "\n",
    "new_code = 2*5\n"
   ],
   "outputs": [],
   "metadata": {}
  },
  {
   "cell_type": "markdown",
   "source": [
    "# Get data for product"
   ],
   "metadata": {}
  },
  {
   "cell_type": "code",
   "execution_count": null,
   "source": [
    "def get_data_for_specific_product(product_name,last_used_data, df):\n",
    "    \n",
    "    df = df.loc[df[\"product_name\"] == product_name].reset_index()\n",
    "\n",
    "    df[\"requested_delivery_date\"] = pd.to_datetime(df[\"requested_delivery_date\"], format=\"%Y-%m-%d\")\n",
    "\n",
    "    df = df.loc[df[\"requested_delivery_date\"] < last_used_date]\n",
    "\n",
    "    missing_dates =  get_missing_dates(df.loc[:, \"requested_delivery_date\"])\n",
    "\n",
    "    time_series_df = df.copy()\n",
    "\n",
    "    for date in missing_dates:\n",
    "        row = [\n",
    "            {\n",
    "                \"product_name\": time_series_df.loc[0, \"product_name\"],\n",
    "                \"product_description\": time_series_df.loc[0, \"product_description\"],\n",
    "                \"sales_quantity\": 0.0,\n",
    "                \"date_of_sale\": \"\",\n",
    "                \"requested_delivery_date\": date\n",
    "            }\n",
    "        ]\n",
    "    time_series_df = time_series_df.append(row, ignore_index=True)\n",
    "\n",
    "    time_series_df = time_series_df.sort_values(by=\"requested_delivery_date\", ignore_index=True)\n",
    "\n",
    "    time_series_df.index = time_series_df[\"requested_delivery_date\"]\n",
    "\n",
    "    time_series_df = time_series_df.resample(\"M\", on=\"requested_delivery_date\").sum().reset_index().sort_values(by=\"requested_delivery_date\")\n",
    "\n",
    "    return time_series_df\n",
    "\n",
    "# \n",
    "def get_missing_dates(dates_column):\n",
    "    dates = pd.to_datetime(dates_column, format=\"%Y-%m-%d\")\n",
    "    d = [date for date in dates]\n",
    "    min_date = min(d)\n",
    "    max_date = max(d)\n",
    "    date_set = set(min_date + timedelta(x) for x in range((max_date - min_date).days))\n",
    "    return [date for date in sorted(date_set - set(d))]\n"
   ],
   "outputs": [],
   "metadata": {}
  },
  {
   "cell_type": "markdown",
   "source": [
    "# Create datasets"
   ],
   "metadata": {}
  },
  {
   "cell_type": "code",
   "execution_count": null,
   "source": [
    "\n",
    "product_name = \"146092\"\n",
    "\n",
    "product_description = df[df[\"product_name\"] == product_name].reset_index().loc[0, \"product_description\"]\n",
    "\n",
    "last_used_date = datetime(2020,2,1) \n",
    "\n",
    "time_series_df = get_data_for_specific_product(product_name= product_name, last_used_data=last_used_date, df=df)\n",
    "\n",
    "x = time_series_df[\"requested_delivery_date\"].values\n",
    "y = time_series_df[\"sales_quantity\"].values\n",
    "data_title = f\"{product_name} {product_description}\"\n",
    "horizon = 6\n"
   ],
   "outputs": [],
   "metadata": {}
  },
  {
   "cell_type": "code",
   "execution_count": null,
   "source": [
    "# Set up the train pipeline, tune models and evaluate them\n",
    "train_pipeline = train.TrainPipeline(\n",
    "    x=x, y=y, data_title=data_title, horizon=horizon\n",
    ")\n",
    "\n",
    "train_pipeline.tune_model_params()\n",
    "train_pipeline.evaluate_models(show_plot=True, show_avg_rmse=True)"
   ],
   "outputs": [],
   "metadata": {}
  },
  {
   "cell_type": "code",
   "execution_count": null,
   "source": [],
   "outputs": [],
   "metadata": {}
  },
  {
   "cell_type": "code",
   "execution_count": null,
   "source": [],
   "outputs": [],
   "metadata": {}
  }
 ],
 "metadata": {
  "interpreter": {
   "hash": "0ab2e4c2a1baec550da1f9ed248b79728cf7e3c8cc9ae821890abee3a8f28076"
  },
  "kernelspec": {
   "display_name": "Python 3.7.5 64-bit ('venv': venv)",
   "name": "python3"
  },
  "language_info": {
   "codemirror_mode": {
    "name": "ipython",
    "version": 3
   },
   "file_extension": ".py",
   "mimetype": "text/x-python",
   "name": "python",
   "nbconvert_exporter": "python",
   "pygments_lexer": "ipython3",
   "version": "3.7.5"
  }
 },
 "nbformat": 4,
 "nbformat_minor": 2
}